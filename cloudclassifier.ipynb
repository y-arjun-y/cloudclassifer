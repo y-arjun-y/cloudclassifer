{
  "nbformat": 4,
  "nbformat_minor": 0,
  "metadata": {
    "colab": {
      "name": "cloudclassifier",
      "provenance": [],
      "authorship_tag": "ABX9TyOmxnMuZVctng1jligJMwab",
      "include_colab_link": true
    },
    "kernelspec": {
      "name": "python3",
      "display_name": "Python 3"
    },
    "language_info": {
      "name": "python"
    },
    "accelerator": "GPU"
  },
  "cells": [
    {
      "cell_type": "markdown",
      "metadata": {
        "id": "view-in-github",
        "colab_type": "text"
      },
      "source": [
        "<a href=\"https://colab.research.google.com/github/y-arjun-y/cloudclassifier/blob/main/cloudclassifier.ipynb\" target=\"_parent\"><img src=\"https://colab.research.google.com/assets/colab-badge.svg\" alt=\"Open In Colab\"/></a>"
      ]
    },
    {
      "cell_type": "markdown",
      "source": [
        "## [Cloud Classifier Project for fast.ai - Practical Deep Learning for Coders - Lesson 2](https://github.com/y-arjun-y/cloudclassifier)"
      ],
      "metadata": {
        "id": "dyt9TpdRlGBB"
      }
    },
    {
      "cell_type": "markdown",
      "source": [
        "### Imports (it's normal for it to request access to GDrive for Desktop)"
      ],
      "metadata": {
        "id": "L022SevIlXbV"
      }
    },
    {
      "cell_type": "code",
      "execution_count": null,
      "metadata": {
        "id": "IrtKIcxYrlDZ"
      },
      "outputs": [],
      "source": [
        "# !pip install fastbook==0.0.17\n",
        "# !pip uninstall tornado -y\n",
        "# !yes | pip install tornado==5.1.0\n",
        "\n",
        "import fastbook\n",
        "fastbook.setup_book()"
      ]
    },
    {
      "cell_type": "code",
      "source": [
        "from fastbook import *\n",
        "from fastai.vision.widgets import *"
      ],
      "metadata": {
        "id": "BYUJEMNLt77y"
      },
      "execution_count": 5,
      "outputs": []
    },
    {
      "cell_type": "markdown",
      "source": [
        "### Download dataset (if you don't have a Bing Image Search API Key)"
      ],
      "metadata": {
        "id": "M_BwDJS_vBH6"
      }
    },
    {
      "cell_type": "code",
      "source": [
        "!npx degit y-arjun-y/cloudclassifier -f"
      ],
      "metadata": {
        "id": "nZDIt_J2vFQY"
      },
      "execution_count": null,
      "outputs": []
    },
    {
      "cell_type": "code",
      "source": [
        "cloud_types = 'cumulus cloud', 'stratus cloud', 'cirrus cloud'\n",
        "path = Path('clouds')"
      ],
      "metadata": {
        "id": "w1z5zZF9xpMk"
      },
      "execution_count": 6,
      "outputs": []
    },
    {
      "cell_type": "markdown",
      "source": [
        "### Bing Image Search API (optional if you downloaded the dataset from the repository)"
      ],
      "metadata": {
        "id": "cvvyCqN_lZ6v"
      }
    },
    {
      "cell_type": "code",
      "source": [
        "key = os.environ.get('AZURE_SEARCH_KEY', 'BING_IMAGE_SEARCH_API_KEY')"
      ],
      "metadata": {
        "id": "Q1-PLUWnuBqd"
      },
      "execution_count": null,
      "outputs": []
    },
    {
      "cell_type": "code",
      "source": [
        "# Using only three basic cloud types. Feel free to download more!\n",
        "cloud_types = 'cumulus cloud', 'stratus cloud', 'cirrus cloud'\n",
        "path = Path('clouds')"
      ],
      "metadata": {
        "id": "xznF5im1uXJc"
      },
      "execution_count": null,
      "outputs": []
    },
    {
      "cell_type": "code",
      "source": [
        "if not path.exists():\n",
        "    path.mkdir()\n",
        "    for o in cloud_types:\n",
        "        dest = (path/o)\n",
        "        dest.mkdir(exist_ok=True)\n",
        "        results = search_images_bing(key, f'{o}')\n",
        "        download_images(dest, urls=results.attrgot('contentUrl'))"
      ],
      "metadata": {
        "id": "B5mXJ8HNvD8o"
      },
      "execution_count": null,
      "outputs": []
    },
    {
      "cell_type": "code",
      "source": [
        "failed = verify_images(get_image_files(path))\n",
        "failed.map(Path.unlink)"
      ],
      "metadata": {
        "id": "1AL9CRJLvkTN"
      },
      "execution_count": null,
      "outputs": []
    },
    {
      "cell_type": "markdown",
      "source": [
        "### DataLoaders and ResNet-18"
      ],
      "metadata": {
        "id": "FUrrRXsMljoX"
      }
    },
    {
      "cell_type": "code",
      "source": [
        "clouds = DataBlock(\n",
        "    blocks=(ImageBlock, CategoryBlock),\n",
        "    get_items=get_image_files,\n",
        "    splitter=RandomSplitter(valid_pct=0.2, seed=42),\n",
        "    get_y=parent_label,\n",
        "    item_tfms=Resize(128)\n",
        ")"
      ],
      "metadata": {
        "id": "4TYTMzT7v0w3"
      },
      "execution_count": 7,
      "outputs": []
    },
    {
      "cell_type": "code",
      "source": [
        "clouds = clouds.new(\n",
        "    item_tfms=RandomResizedCrop(224, min_scale=0.5),\n",
        "    batch_tfms=aug_transforms()\n",
        ")\n",
        "dls = clouds.dataloaders(path)"
      ],
      "metadata": {
        "id": "AIyrrRy9wYYk"
      },
      "execution_count": 8,
      "outputs": []
    },
    {
      "cell_type": "code",
      "source": [
        "learn = cnn_learner(dls, resnet18, metrics=error_rate)\n",
        "learn.fine_tune(1)"
      ],
      "metadata": {
        "id": "U_ng4gobwt6J"
      },
      "execution_count": null,
      "outputs": []
    },
    {
      "cell_type": "markdown",
      "source": [
        "### Exporting the model (you need to run this)"
      ],
      "metadata": {
        "id": "p6_zuJtMlzHw"
      }
    },
    {
      "cell_type": "code",
      "source": [
        "learn.export()"
      ],
      "metadata": {
        "id": "of-VXFBDyKK1"
      },
      "execution_count": 10,
      "outputs": []
    },
    {
      "cell_type": "code",
      "source": [
        "path = Path()\n",
        "path.ls(file_exts='.pkl')"
      ],
      "metadata": {
        "id": "lQN_gz2myvKV"
      },
      "execution_count": null,
      "outputs": []
    },
    {
      "cell_type": "markdown",
      "source": [
        "### Supplying your own cloud image and getting a prediction!"
      ],
      "metadata": {
        "id": "cuxlDHaXl6zO"
      }
    },
    {
      "cell_type": "code",
      "source": [
        "learn_inf = load_learner(path/'export.pkl')"
      ],
      "metadata": {
        "id": "FFkEkKRwyM-D"
      },
      "execution_count": 12,
      "outputs": []
    },
    {
      "cell_type": "code",
      "source": [
        "btn_upload = widgets.FileUpload()\n",
        "btn_upload"
      ],
      "metadata": {
        "id": "2Sb_rJDHw6gp"
      },
      "execution_count": null,
      "outputs": []
    },
    {
      "cell_type": "code",
      "source": [
        "img = PILImage.create(btn_upload.data[-1])"
      ],
      "metadata": {
        "id": "A070vYCxx67E"
      },
      "execution_count": 14,
      "outputs": []
    },
    {
      "cell_type": "code",
      "source": [
        "out_pl = widgets.Output()"
      ],
      "metadata": {
        "id": "sDG-rHYTyiNb"
      },
      "execution_count": 15,
      "outputs": []
    },
    {
      "cell_type": "code",
      "source": [
        "pred, pred_idx, probs = learn_inf.predict(img)"
      ],
      "metadata": {
        "id": "dxG_iI6Kx9Kz"
      },
      "execution_count": null,
      "outputs": []
    },
    {
      "cell_type": "code",
      "source": [
        "lbl_pred = widgets.Label()\n",
        "lbl_pred.value = f'Prediction: {pred}; Probability: {probs[pred_idx]:.04f}'\n",
        "lbl_pred"
      ],
      "metadata": {
        "id": "KWKJX2wQyTw9"
      },
      "execution_count": null,
      "outputs": []
    }
  ]
}